{
 "cells": [
  {
   "cell_type": "markdown",
   "metadata": {},
   "source": [
    "# Basic RESTFul API Server With Python Flask\n",
    "    \n",
    "      OPERATIONS:\n",
    "            Create, Read, Update, Delete"
   ]
  },
  {
   "cell_type": "code",
   "execution_count": null,
   "metadata": {},
   "outputs": [
    {
     "name": "stderr",
     "output_type": "stream",
     "text": [
      " * Running on http://localhost:9002/ (Press CTRL+C to quit)\n",
      "127.0.0.1 - - [09/Mar/2020 02:08:11] \"DELETE / HTTP/1.1\" 404 -\n",
      "127.0.0.1 - - [09/Mar/2020 02:08:20] \"GET /api HTTP/1.1\" 200 -\n",
      "127.0.0.1 - - [09/Mar/2020 02:08:31] \"POST /api/add HTTP/1.1\" 200 -\n"
     ]
    },
    {
     "name": "stdout",
     "output_type": "stream",
     "text": [
      "{'name': 'ruan', 'country': 'south africa', 'age': 30}\n"
     ]
    },
    {
     "name": "stderr",
     "output_type": "stream",
     "text": [
      "127.0.0.1 - - [09/Mar/2020 02:09:27] \"POST /api/add HTTP/1.1\" 200 -\n"
     ]
    },
    {
     "name": "stdout",
     "output_type": "stream",
     "text": [
      "{'name': 'Raj', 'country': 'New Zealand', 'age': 23}\n"
     ]
    },
    {
     "name": "stderr",
     "output_type": "stream",
     "text": [
      "127.0.0.1 - - [09/Mar/2020 02:09:51] \"POST /api/add HTTP/1.1\" 200 -\n"
     ]
    },
    {
     "name": "stdout",
     "output_type": "stream",
     "text": [
      "{'name': 'Lav', 'country': 'USA', 'age': 25}\n"
     ]
    },
    {
     "name": "stderr",
     "output_type": "stream",
     "text": [
      "127.0.0.1 - - [09/Mar/2020 02:09:57] \"GET /api/list HTTP/1.1\" 200 -\n",
      "127.0.0.1 - - [09/Mar/2020 02:10:27] \"PUT /api/update HTTP/1.1\" 200 -\n",
      "127.0.0.1 - - [09/Mar/2020 02:10:41] \"GET /api/list HTTP/1.1\" 200 -\n",
      "127.0.0.1 - - [09/Mar/2020 02:10:51] \"PUT /api/update/3 HTTP/1.1\" 200 -\n"
     ]
    },
    {
     "name": "stdout",
     "output_type": "stream",
     "text": [
      "<class 'dict'>\n",
      "['name', 'age']\n",
      "<class 'str'>\n",
      "<class 'str'>\n"
     ]
    },
    {
     "name": "stderr",
     "output_type": "stream",
     "text": [
      "127.0.0.1 - - [09/Mar/2020 02:11:02] \"DELETE /api/update/4 HTTP/1.1\" 405 -\n",
      "127.0.0.1 - - [09/Mar/2020 02:11:10] \"DELETE /api/delete/4 HTTP/1.1\" 200 -\n"
     ]
    },
    {
     "name": "stdout",
     "output_type": "stream",
     "text": [
      "Not found the ID Given\n"
     ]
    }
   ],
   "source": [
    "\n",
    "# from werkzeug.wrappers import Request, Response # for running Flask on Jupyter Lab\n",
    "\n",
    "from flask import Flask, jsonify, request\n",
    "\n",
    "from multiprocessing import Value                    #This is Multithreading lib\n",
    "\n",
    "counter = Value('i', 0)\n",
    "app = Flask(__name__)\n",
    "\n",
    "a = []\n",
    "help_message = \"\"\"\n",
    "API Usage:\n",
    " \n",
    "- GET    /api/list\n",
    "- POST   /api/add data={\"key\": \"value\"}\n",
    "- GET    /api/get/<id>\n",
    "- PUT    /api/update/<id> data={\"key\": \"value_to_replace\"}\n",
    "- DELETE /api/delete/<id> \n",
    "\n",
    "\"\"\"\n",
    "\n",
    "\n",
    "def id_generator():\n",
    "    '''\n",
    "    This function that will generate id’s for each document.\n",
    "    '''\n",
    "    with counter.get_lock():\n",
    "        counter.value += 1\n",
    "        return counter.value\n",
    "\n",
    "@app.route('/api', methods=['GET'])\n",
    "def help():\n",
    "    return help_message\n",
    "\n",
    "@app.route('/api/list', methods=['GET'])\n",
    "def list():\n",
    "    return jsonify(a)\n",
    "\n",
    "@app.route('/api/add', methods=['POST'])\n",
    "def index():\n",
    "    payload = request.json\n",
    "    print(payload)\n",
    "    payload['id'] = id_generator()\n",
    "    a.append(payload)\n",
    "    return \"Created: {} \\n\".format(payload)\n",
    "\n",
    "@app.route('/api/get', methods=['GET'])\n",
    "def get_none():\n",
    "    return 'ID Required: /api/get/<id> \\n'\n",
    "\n",
    "@app.route('/api/get/<int:_id>', methods=['GET'])\n",
    "def get(_id):\n",
    "    for user in a:\n",
    "        if _id == user['id']:\n",
    "            selected_user = user\n",
    "            return jsonify(selected_user)\n",
    "        else:\n",
    "            return \"Provided ID, Not available!!\"\n",
    "\n",
    "@app.route('/api/update', methods=['PUT'])\n",
    "def update_none():\n",
    "    return 'ID and Desired K/V in Payload required: /api/update/<id> -d \\'{\"name\": \"john\"}\\' \\n'\n",
    "\n",
    "'''funtions for updating info'''\n",
    "@app.route('/api/update/<int:_id>', methods=['PUT'])\n",
    "def update(_id):\n",
    "\n",
    "    id_check=[i for i in a if _id == i['id']]\n",
    "    if len(id_check) == 0:\n",
    "        print(\"Not found the ID Given\")\n",
    "        return \"The Given ID is not present, Provide the existing one !!!\"\n",
    "\n",
    "\n",
    "    else:\n",
    "        update_req = request.json\n",
    "        print(type(update_req))\n",
    "        # print(list(update_req.keys()))\n",
    "        key_to_update=[li for li in update_req.keys()]\n",
    "        print(key_to_update)\n",
    "        for key in key_to_update:\n",
    "            print(type(key))\n",
    "            try:\n",
    "                next((item for item in a if item['id'] == _id))[key] =  update_req[key]\n",
    "            except StopIteration as e:\n",
    "                print(e)\n",
    "                break\n",
    "        updated_response=''.join(map(str,[i for i in a if _id == i['id']]))\n",
    "\n",
    "        return \"Updated: {} \\n\".format(updated_response)\n",
    "\n",
    "\n",
    "@app.route('/api/delete/<int:_id>', methods=['DELETE'])\n",
    "def delete(_id):\n",
    "\n",
    "    id_check=[i for i in a if _id == i['id']]\n",
    "    if len(id_check) == 0:\n",
    "        print(\"Not found the ID Given\")\n",
    "        return \"The Given ID is not present to delete, Provide the existing one !!!\"\n",
    "\n",
    "    else:\n",
    "        try:\n",
    "            deleted_user = (item for item in a if item['id'] == _id).__next__()\n",
    "\n",
    "        except StopIteration as e:\n",
    "            print(e)\n",
    "\n",
    "        print('*****Deleted User*******')\n",
    "        print(deleted_user)\n",
    "        a.remove(deleted_user)\n",
    "        return \"Deleted: {} \\n\".format(deleted_user)\n",
    "\n",
    "if __name__ == '__main__':\n",
    "    \n",
    "#     app.run(debug=True)\n",
    "\n",
    "    ##Used below codes for running on Jupyter Notebook\n",
    "    from werkzeug.serving import run_simple\n",
    "    run_simple('localhost', 9002, app)\n"
   ]
  },
  {
   "cell_type": "code",
   "execution_count": null,
   "metadata": {},
   "outputs": [],
   "source": []
  }
 ],
 "metadata": {
  "kernelspec": {
   "display_name": "Python 3",
   "language": "python",
   "name": "python3"
  },
  "language_info": {
   "codemirror_mode": {
    "name": "ipython",
    "version": 3
   },
   "file_extension": ".py",
   "mimetype": "text/x-python",
   "name": "python",
   "nbconvert_exporter": "python",
   "pygments_lexer": "ipython3",
   "version": "3.7.4"
  }
 },
 "nbformat": 4,
 "nbformat_minor": 4
}
