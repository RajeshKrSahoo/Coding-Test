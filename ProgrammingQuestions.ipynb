{
 "cells": [
  {
   "cell_type": "markdown",
   "metadata": {},
   "source": [
    "# <font color=Yellow> Coding test: Problem statement and Answer-- Python 3</font>"
   ]
  },
  {
   "cell_type": "markdown",
   "metadata": {},
   "source": [
    "## #Q1-- <font color=blue>Implement a group_by_owners function that: </font>\n",
    "\n",
    "  <ul>\n",
    "  <li>Accepts a dictionary containing the file owner name for each file name.</li>\n",
    "  <li>Returns a dictionary containing a list of file names for each owner name, in any order.</li>\n",
    "</ul>\n",
    "  \n",
    "  ##### For example, for dictionary {'Input.txt': 'Randy', 'Code.py': 'Stan', 'Output.txt': 'Randy'} the group_by_owners function should return {'Randy': ['Input.txt', 'Output.txt'], 'Stan': ['Code.py']}.\n",
    "  "
   ]
  },
  {
   "cell_type": "code",
   "execution_count": 69,
   "metadata": {},
   "outputs": [
    {
     "name": "stdout",
     "output_type": "stream",
     "text": [
      "{'Randy': ['Input.txt', 'Output.txt'], 'Stan': ['Code.py']}\n"
     ]
    }
   ],
   "source": [
    "inputDict={'Input.txt': 'Randy', 'Code.py': 'Stan', 'Output.txt': 'Randy'}\n",
    "\n",
    "# testInput= {'Input.txt': 'Randy', 'Code.py': 'Stan', 'Output.txt': 'Randy', \"colonel.csv\":\"Rajesh\"}\n",
    "\n",
    "def group_by_owners(inpDict):\n",
    "    owners=set()\n",
    "    ownerDict={}\n",
    "\n",
    "    for fname, ownName in inpDict.items():\n",
    "        owners.add(ownName)\n",
    "\n",
    "    for names in owners:\n",
    "        ownerDict[names]=[]\n",
    "        for fname, ownName in inpDict.items():\n",
    "            if ownName==names:\n",
    "                ownerDict[names].append(fname)\n",
    "    return ownerDict;\n",
    "\n",
    "\n",
    "#Result\n",
    "print(group_by_owners(inputDict))"
   ]
  },
  {
   "cell_type": "code",
   "execution_count": 70,
   "metadata": {},
   "outputs": [
    {
     "name": "stdout",
     "output_type": "stream",
     "text": [
      "{'Randy': ['Input.txt', 'Output.txt'], 'Rajesh': ['colonel.csv'], 'Stan': ['Code.py']}\n"
     ]
    }
   ],
   "source": [
    "## result\n",
    "testInput= {'Input.txt': 'Randy', 'Code.py': 'Stan', 'Output.txt': 'Randy', \"colonel.csv\":\"Rajesh\"}\n",
    "print(group_by_owners(testInput))"
   ]
  },
  {
   "cell_type": "markdown",
   "metadata": {},
   "source": [
    "## #Q2--<font color=blue>Write a function that checks if a given word is a palindrome. Character case should be ignored.</font>"
   ]
  },
  {
   "cell_type": "code",
   "execution_count": 71,
   "metadata": {},
   "outputs": [
    {
     "name": "stdout",
     "output_type": "stream",
     "text": [
      "Word--Meddiff is palaindrome ? : No\n"
     ]
    }
   ],
   "source": [
    "def is_palindromeFn(word):\n",
    "    try:\n",
    "        \n",
    "        #word= input(\"please enter word: \")\n",
    "        word_plndrm=word.lower()\n",
    "        res = str(word_plndrm) == str(word_plndrm)[::-1] \n",
    "        \n",
    "        if res==True:\n",
    "            rslt=\"yes\"\n",
    "        else:\n",
    "            rslt=\"No\"\n",
    "        ##Character case ignored.\n",
    "        print (\"Word--{0} is palaindrome ? : {1}\".format(word,str(rslt)) ) \n",
    "               \n",
    "    except Exception as e:\n",
    "        print(e)\n",
    "\n",
    "        \n",
    "###*****Answer---------**********------------\n",
    "        \n",
    "is_palindromeFn(\"Meddiff\")"
   ]
  },
  {
   "cell_type": "markdown",
   "metadata": {},
   "source": [
    "## #Q3--<font color=blue>Write a function to parse a log file & extract details of Errors & Warnings recorded into a separate file.</font>"
   ]
  },
  {
   "cell_type": "code",
   "execution_count": 30,
   "metadata": {},
   "outputs": [
    {
     "name": "stdout",
     "output_type": "stream",
     "text": [
      "C:\\Users\\ezsahra\\Documents\\My Received Files\\Config_Log_Output\\log\\*.log\n",
      "['C:\\\\Users\\\\ezsahra\\\\Documents\\\\My Received Files\\\\Config_Log_Output\\\\log\\\\botID1212_auditLog_20190424_170029.log', 'C:\\\\Users\\\\ezsahra\\\\Documents\\\\My Received Files\\\\Config_Log_Output\\\\log\\\\botID1212_auditLog_20190424_170030.log', 'C:\\\\Users\\\\ezsahra\\\\Documents\\\\My Received Files\\\\Config_Log_Output\\\\log\\\\botID1212_auditLog_20190424_170528.log', 'C:\\\\Users\\\\ezsahra\\\\Documents\\\\My Received Files\\\\Config_Log_Output\\\\log\\\\botID1212_debugLog_20190424_170029.log', 'C:\\\\Users\\\\ezsahra\\\\Documents\\\\My Received Files\\\\Config_Log_Output\\\\log\\\\botID1212_debugLog_20190424_170030.log', 'C:\\\\Users\\\\ezsahra\\\\Documents\\\\My Received Files\\\\Config_Log_Output\\\\log\\\\botID1212_debugLog_20190424_170528.log']\n"
     ]
    },
    {
     "name": "stderr",
     "output_type": "stream",
     "text": [
      "C:\\Users\\ezsahra\\AppData\\Local\\Continuum\\anaconda3\\lib\\site-packages\\ipykernel_launcher.py:13: ParserWarning: Falling back to the 'python' engine because the 'c' engine does not support regex separators (separators > 1 char and different from '\\s+' are interpreted as regex); you can avoid this warning by specifying engine='python'.\n",
      "  del sys.path[0]\n"
     ]
    }
   ],
   "source": [
    "import pandas as pd\n",
    "import glob\n",
    "import os\n",
    "import base64\n",
    "\n",
    "def read_logs(folderpath):\n",
    "    try:\n",
    "        print(os.path.join(folderpath, '*.log'))\n",
    "        file_paths = glob.glob(os.path.join(folderpath, '*.log'))\n",
    "        print(file_paths)\n",
    "        # for file_path in file_paths:\n",
    "        df_logs = pd.concat([pd.read_csv(file_path, \n",
    "                                         names=['time', 'n', 'type', ] + list(range(10)),                                      header=None, sep=',\\s*', index_col=None) \\\n",
    "                             for file_path in file_paths], axis=0).reset_index(drop=True)\n",
    "        df_logs.dropna(subset=list(range(1, 7)), how='all', inplace=True)\n",
    "\n",
    "    #     print(df_logs)\n",
    "        return df_logs\n",
    "    \n",
    "    except Exception as e:\n",
    "        print(e)\n",
    "\n",
    "# if __name__ == '__main__':\n",
    "#df_logs = read_logs(r\"C:\\Users\\EZSAHRA\\Desktop\\New folder\\ExpFinal\\log\")\n",
    "\n",
    "#df_logs = read_logs(r\"C:\\Users\\EZSAHRA\\Desktop\\New folder (4)\")\n",
    "\n",
    "df_logs = read_logs(r\"C:\\Users\\ezsahra\\Documents\\My Received Files\\Config_Log_Output\\log\")\n",
    "    \n",
    "# df_logs[df_logs['type']==]\n",
    "\n",
    "infoLogs= df_logs[df_logs['type'].str.contains(\"INFO\")]\n",
    "\n",
    "debugLogs= df_logs[df_logs['type'].str.contains(\"DEBUG\")]\n",
    "\n",
    "errorLogs= df_logs[df_logs['type'].str.contains(\"ERROR\")]\n",
    "\n",
    "warningLogs= df_logs[df_logs['type'].str.contains(\"WARNING\")]\n",
    "\n",
    "#As per the question asked to get the warning and error details we can Save as CSV or text file\n",
    "# with open('error.csv', 'a') as result:\n",
    "#     debugLogs.to_csv(result,encoding='utf-8')\n",
    "# file=r'C:\\eerroFie.csv'\n",
    "# debugLogs.to_csv(file,encoding='utf-8')\n",
    "# file.close()\n",
    "\n",
    "errorLogs.to_csv('errorLog.csv',encoding='utf-8')\n",
    "\n",
    "warningLogs.to_csv('warningLog.csv',encoding='utf-8')\n",
    "\n",
    "\n",
    "\n"
   ]
  },
  {
   "cell_type": "markdown",
   "metadata": {},
   "source": [
    "## #Q4--<font color=blue>Write a function that provides change directory (cd) function for an abstract file system..</font>"
   ]
  },
  {
   "cell_type": "code",
   "execution_count": 39,
   "metadata": {},
   "outputs": [
    {
     "name": "stdout",
     "output_type": "stream",
     "text": [
      "/a/b/c/x\n"
     ]
    }
   ],
   "source": [
    "class Path:\n",
    "    def __init__(self, path):\n",
    "        self.current_path = path\n",
    "\n",
    "    def cd(self, new_path):\n",
    "        try:\n",
    "            i=0;\n",
    "            new_pathList=new_path.split('/')\n",
    "            pathLength=len(new_pathList)\n",
    "            pathList=self.current_path.split('/')\n",
    "            if new_pathList[0]=='':\n",
    "                del pathList[:]\n",
    "                pathList.append('/'+new_pathList[1])\n",
    "                i=i+2\n",
    "            while(i<pathLength):\n",
    "                j=len(pathList)-1\n",
    "                if new_pathList[i]=='..':\n",
    "                    pathList.pop(j)\n",
    "                else:\n",
    "                    pathList.append(new_pathList[i])\n",
    "                i=i+1\n",
    "            self.current_path=\"/\".join(pathList)\n",
    "\n",
    "            pass\n",
    "        \n",
    "        except Excpetion as e:\n",
    "            print(\"Exception\",str(e))\n",
    "            \n",
    "            \n",
    "#*****Answer---------**********------------\n",
    "\n",
    "path = Path('/a/b/c/d')\n",
    "path.cd('../x')\n",
    "print(path.current_path)"
   ]
  },
  {
   "cell_type": "code",
   "execution_count": 72,
   "metadata": {},
   "outputs": [
    {
     "name": "stdout",
     "output_type": "stream",
     "text": [
      "/a/b/c/x\n"
     ]
    }
   ],
   "source": [
    "## Example\n",
    "\n",
    "path = Path('/a/b/c/d')\n",
    "path.cd('../x')\n",
    "print(path.current_path)"
   ]
  },
  {
   "cell_type": "code",
   "execution_count": null,
   "metadata": {},
   "outputs": [],
   "source": []
  },
  {
   "cell_type": "code",
   "execution_count": null,
   "metadata": {},
   "outputs": [],
   "source": []
  }
 ],
 "metadata": {
  "kernelspec": {
   "display_name": "Python 3",
   "language": "python",
   "name": "python3"
  },
  "language_info": {
   "codemirror_mode": {
    "name": "ipython",
    "version": 3
   },
   "file_extension": ".py",
   "mimetype": "text/x-python",
   "name": "python",
   "nbconvert_exporter": "python",
   "pygments_lexer": "ipython3",
   "version": "3.7.1"
  }
 },
 "nbformat": 4,
 "nbformat_minor": 2
}
